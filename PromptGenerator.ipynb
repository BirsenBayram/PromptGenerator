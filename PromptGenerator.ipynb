{
  "nbformat": 4,
  "nbformat_minor": 0,
  "metadata": {
    "colab": {
      "provenance": []
    },
    "kernelspec": {
      "name": "python3",
      "display_name": "Python 3"
    },
    "language_info": {
      "name": "python"
    }
  },
  "cells": [
    {
      "cell_type": "code",
      "execution_count": 2,
      "metadata": {
        "colab": {
          "base_uri": "https://localhost:8080/"
        },
        "id": "5oOhxTV5G7sX",
        "outputId": "1a0de6bb-cb17-443e-98c1-2951959a5169"
      },
      "outputs": [
        {
          "output_type": "stream",
          "name": "stdout",
          "text": [
            "sigortacı\n",
            "['Female, 55 years old, Psychedelic style, Franz Kline, Depth of Field,high details, sketch', 'Female, 55 years old, Dada movement style, Claude Monet, Cinematic,extreme level of details, water colour painting', 'Female, 55 years old, Digital Art style, Hieronymus Bosch, Moody Lighting,normal details, sketch']\n"
          ]
        }
      ],
      "source": [
        "styles = [\"Abstract\", \"Dada movement\", \"Neo-Plasticism\", \"Surrealism\",\n",
        "          \"Biomorphic abstraction\", \"Expressionism\",\"Fauvism\",\n",
        "          \"Constructivism\", \"Kinetic art\", \"Op Art\", \"Romanticism\", \"Realism\",\n",
        "          \"Baroque\", \"Impressionism\", \"Renaissance\", \"Medieval\", \"Gothic\",\n",
        "          \"Rococo\", \"Neoclassicism\", \"Orientalism\", \"Pop Art\", \"Street Art\",\n",
        "          \"Minimalism\", \"Color Field Painting\", \"Abstractionism\",\n",
        "          \"Postmodernism\", \"Conceptual Art\", \"Performance Art\", \"Digital Art\",\n",
        "          \"Graffiti\", \"Psychedelic\", \"Orphism\", \"Naive art\", \"Retro\"]\n",
        "\n",
        "artists = [\"Wassily Kandinsky\", \"Piet Mondrian\", \"Salvador Dalí\", \"Joan Miró\",\n",
        "           \"Kazimir Malevich\", \"Willem de Kooning\", \"Franz Kline\",\n",
        "           \"Mark Rothko\", \"Eugène Delacroix\", \"Gustave Courbet\",\n",
        "           \"Peter Paul Rubens\", \"Claude Monet\",\"Leonardo da Vinci\",\n",
        "           \"Michelangelo\", \"Rembrandt van Rijn\", \"Sandro Botticelli\",\n",
        "           \"Hieronymus Bosch\", \"Andy Warhol\", \"Banksy\", \"Agnes Martin\",\n",
        "           \"Jackson Pollock\", \"Jasper Johns\", \"Jeff Koons\", \"Yayoi Kusama\",\n",
        "           \"Marina Abramović\", \"David Hockney\", \"Abbott Fuller Graves\",\n",
        "           \"Abbott Handerson Thayer\", \"Anne Truitt\", \"Auguste Rodin\",\n",
        "           \"Afarin Sajedi\", \"Brian Jungen\", \"Dan Colen\", \"Jamie Hewlett\",\n",
        "           \"Fairy Kei\"]\n",
        "\n",
        "lighting_options = [\"Color Grading\", \"Depth of Field\", \"Cinematic\",\n",
        "                    \"Backlight\", \"Natural Lighting\", \"HDR\", \"Incandescent\",\n",
        "                    \"Moody Lighting\", \"Glowing\", \"Ektachrome\", \"Studio Lighting\"]\n",
        "\n",
        "detail_levels = [\"minimalistic details\", \"normal details\", \"high details\",\n",
        "                 \"very high details\", \"extreme level of details\"]\n",
        "\n",
        "output_styles = [\"pen drawing\", \"oil painting\", \"water colour painting\",\n",
        "                 \"3d render\", \"sculpture\", \"cartoon\", \"anime\", \"line art\",\n",
        "                 \"pixel art\", \"graffiti\", \"sketch\"]\n",
        "\n",
        "Profession = ['Bankacı', 'çiftçi', 'garson/komi/hizmetli/müstehdam', 'hemşire',\n",
        "              'kuaför/berber', 'sanatçı', 'sigortacı', 'şöför',\n",
        "              'teknik personel', 'emlakçı', 'güvenlik', 'sekreter', 'işçi']\n",
        "\n",
        "import random\n",
        "import pandas as pd\n",
        "AgeOfCustomer = '55'\n",
        "SexOfCustomer = 'Female'\n",
        "RandProfession = random.choice(Profession)\n",
        "\n",
        "print(RandProfession)\n",
        "\n",
        "prompts = []\n",
        "def PromptGenerator():\n",
        "  for i in range(3):\n",
        "    RandStyle = random.choice(styles)\n",
        "    RandArtist = random.choice(artists)\n",
        "    RandLightning = random.choice(lighting_options)\n",
        "    RandDetailLevel = random.choice(detail_levels)\n",
        "    RandOutputStyle = random.choice(output_styles)\n",
        "    prompt = f'{SexOfCustomer}, {AgeOfCustomer} years old, {RandStyle} style, {RandArtist}, {RandLightning},{RandDetailLevel}, {RandOutputStyle}'\n",
        "    prompts.append(prompt)\n",
        "  print(prompts)\n",
        "\n",
        "\n",
        "PromptGenerator()"
      ]
    },
    {
      "cell_type": "code",
      "source": [
        "import random\n",
        "import pandas as pd\n",
        "AgeOfCustomer = '45'\n",
        "SexOfCustomer = 'Male'\n",
        "RandProfession = random.choice(Profession)\n",
        "RandProfession"
      ],
      "metadata": {
        "colab": {
          "base_uri": "https://localhost:8080/",
          "height": 35
        },
        "id": "u1XOfrU2HgCN",
        "outputId": "16e104e2-ed01-4d5c-84f7-a8994b1fc53b"
      },
      "execution_count": 54,
      "outputs": [
        {
          "output_type": "execute_result",
          "data": {
            "text/plain": [
              "'teknik personel'"
            ],
            "application/vnd.google.colaboratory.intrinsic+json": {
              "type": "string"
            }
          },
          "metadata": {},
          "execution_count": 54
        }
      ]
    },
    {
      "cell_type": "code",
      "source": [
        "def PromptGenerator():\n",
        "  for i in range(3):\n",
        "    RandStyle = random.choice(styles)\n",
        "    RandArtist = random.choice(artists)\n",
        "    RandLightning = random.choice(lighting_options)\n",
        "    RandDetailLevel = random.choice(detail_levels)\n",
        "    RandOutputStyle = random.choice(output_styles)\n",
        "    print(f'{SexOfCustomer}, {AgeOfCustomer} years old, {RandProfession}, {RandStyle}, {RandArtist}, {RandLightning}, {RandDetailLevel}, {RandOutputStyle}')\n"
      ],
      "metadata": {
        "id": "LoiEXxtMHg4E"
      },
      "execution_count": 55,
      "outputs": []
    },
    {
      "cell_type": "code",
      "source": [
        "PromptGenerator()"
      ],
      "metadata": {
        "colab": {
          "base_uri": "https://localhost:8080/"
        },
        "id": "XT4BVWX3N8Uc",
        "outputId": "72053d28-f6ef-4d1d-cf45-b9f1d129bc86"
      },
      "execution_count": 56,
      "outputs": [
        {
          "output_type": "stream",
          "name": "stdout",
          "text": [
            "Male, 45 years old, teknik personel, Constructivism, Jackson Pollock, Cinematic, minimalistic details, sculpture\n",
            "Male, 45 years old, teknik personel, Color Field Painting, Joan Miró, HDR, minimalistic details, water colour painting\n",
            "Male, 45 years old, teknik personel, Constructivism, Piet Mondrian, HDR, high details, sketch\n"
          ]
        }
      ]
    },
    {
      "cell_type": "code",
      "source": [
        "PromptGenerator()"
      ],
      "metadata": {
        "colab": {
          "base_uri": "https://localhost:8080/"
        },
        "id": "BBS-CcX8Oxkr",
        "outputId": "3cde3cc5-c1bd-413b-d715-8bd85a7509d3"
      },
      "execution_count": 28,
      "outputs": [
        {
          "output_type": "stream",
          "name": "stdout",
          "text": [
            "['Male, 45 years old, sekreter, Fauvism, Joan Miró, Incandescent, normal details, graffiti', 'Male, 45 years old, sekreter, Pop Art, Piet Mondrian, Glowing, minimalistic details, water colour painting', 'Male, 45 years old, sekreter, Orientalism, Abbott Fuller Graves, Studio Lighting, normal details, oil painting']\n"
          ]
        }
      ]
    },
    {
      "cell_type": "code",
      "source": [
        "prompts = []\n",
        "def PromptGenerator():\n",
        "  for i in range(3):\n",
        "    RandStyle = random.choice(styles)\n",
        "    RandArtist = random.choice(artists)\n",
        "    RandLightning = random.choice(lighting_options)\n",
        "    RandDetailLevel = random.choice(detail_levels)\n",
        "    RandOutputStyle = random.choice(output_styles)\n",
        "    prompt = f'{SexOfCustomer}, {AgeOfCustomer} years old, {RandProfession}, {RandStyle}, {RandArtist}, {RandLightning}, {RandDetailLevel}, {RandOutputStyle}'\n",
        "    prompts.append(prompt)\n",
        "  print(prompts)"
      ],
      "metadata": {
        "id": "LkYwNp_zQEnD"
      },
      "execution_count": 52,
      "outputs": []
    },
    {
      "cell_type": "code",
      "source": [
        "PromptGenerator()"
      ],
      "metadata": {
        "colab": {
          "base_uri": "https://localhost:8080/"
        },
        "id": "3OiZgEtwWzrC",
        "outputId": "dcf4dc6b-683c-4b57-ba0d-bde9098d31cb"
      },
      "execution_count": 53,
      "outputs": [
        {
          "output_type": "stream",
          "name": "stdout",
          "text": [
            "['Male, 45 years old, teknik personel, Naive art, Joan Miró, HDR, very high details, pen drawing', 'Male, 45 years old, teknik personel, Psychedelic, Andy Warhol, Incandescent, normal details, pen drawing', 'Male, 45 years old, teknik personel, Pop Art, Anne Truitt, Incandescent, high details, line art']\n"
          ]
        }
      ]
    },
    {
      "cell_type": "code",
      "source": [
        "prompts"
      ],
      "metadata": {
        "colab": {
          "base_uri": "https://localhost:8080/"
        },
        "id": "1XreQEHFYU0L",
        "outputId": "50fb2791-e0d2-4f17-a6e3-e2b72ecda3a1"
      },
      "execution_count": 51,
      "outputs": [
        {
          "output_type": "execute_result",
          "data": {
            "text/plain": [
              "['Male, 45 years old, teknik personel, Constructivism, Yayoi Kusama, Cinematic, extreme level of details, sculpture',\n",
              " 'Male, 45 years old, teknik personel, Conceptual Art, Piet Mondrian, Natural Lighting, very high details, pixel art',\n",
              " 'Male, 45 years old, teknik personel, Neo-Plasticism, Fairy Kei, Cinematic, normal details, water colour painting']"
            ]
          },
          "metadata": {},
          "execution_count": 51
        }
      ]
    },
    {
      "cell_type": "code",
      "source": [],
      "metadata": {
        "id": "x5MdSZgoZM2B"
      },
      "execution_count": null,
      "outputs": []
    }
  ]
}